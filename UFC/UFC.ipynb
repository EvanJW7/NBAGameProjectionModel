{
 "cells": [
  {
   "cell_type": "code",
   "execution_count": 4,
   "id": "f14827b3",
   "metadata": {},
   "outputs": [
    {
     "name": "stdout",
     "output_type": "stream",
     "text": [
      "Moneyline: -140\n",
      "Percent of bets on the favorite: 55\n",
      "Favorite: Ciryl Gane\n",
      "Underdog: Francis Ngannou\n",
      "\n",
      "Original odds for Ciryl Gane: -140.0\n",
      "Optimized odds for Ciryl Gane: -115.0\n",
      "\n",
      "Ciryl Gane will defeat Francis Ngannou by unanimous decision\n"
     ]
    }
   ],
   "source": [
    "def titlefightpredictor(moneyline, percent_of_bets, favorite, underdog):\n",
    "    betsfinal = (percent_of_bets)/100\n",
    "    optimizer = moneyline - ((.5 - betsfinal)*500)\n",
    "    optimizer = format(optimizer, \".4\")\n",
    "    optimizer = float(optimizer)\n",
    "    if optimizer >=90:\n",
    "        outcome = f'{underdog.title()} will upset {favorite.title()} in the 1st round'\n",
    "    elif 90>optimizer>30:\n",
    "        outcome = f'{underdog.title()} will upset {favorite.title()} in the 2nd round'\n",
    "    elif 30>=optimizer>-10:\n",
    "        outcome = f'{favorite.title()} will upset {underdog.title()} in the 3rd round'\n",
    "    elif -10>=optimizer>-55:\n",
    "        outcome = f'{underdog.title()} will upset {favorite.title()} in the 4th round'\n",
    "    elif -55>=optimizer>-80:\n",
    "        outcome = f'{underdog.title()} will defeat {favorite.title()} in the 5th round'\n",
    "    elif -80>=optimizer>-100:\n",
    "        outcome = f'{underdog.title()} will upset {favorite.title()} by unanimous decision'\n",
    "    elif -100>=optimizer>-105:\n",
    "        outcome = f'{underdog.title()} will upset {favorite.title()} in a split decision'\n",
    "    elif -110<=optimizer<=-105:\n",
    "        outcome = f'{favorite.title()} wins a close match against {underdog.title()} in a split decision'\n",
    "    elif -130<=optimizer<-110:\n",
    "        outcome = f'{favorite.title()} will defeat {underdog.title()} by unanimous decision'\n",
    "    elif -155<=optimizer<-130:\n",
    "        outcome = f'{favorite.title()} will defeat {underdog.title()} in the 5th round'\n",
    "    elif -200<=optimizer<-155:\n",
    "        outcome = f'{favorite.title()} will defeat {underdog.title()} in the 4th round'\n",
    "    elif -240<=optimizer<-200:\n",
    "        outcome = f'{favorite.title()} will defeat {underdog.title()} in the 3rd round'\n",
    "    elif -300<optimizer<-240:\n",
    "        outcome = f'{favorite.title()} will defeat {underdog.title()} in the 2nd round'\n",
    "    elif optimizer <=-300:\n",
    "        outcome = f'{favorite.title()} will defeat {underdog.title()} in the 1st round'\n",
    "        \n",
    "    print(f\"\\nOriginal odds for {favorite.title()}: {moneyline}\")\n",
    "    \n",
    "    if optimizer >-105:\n",
    "        optimizer = optimizer+210\n",
    "        print(f\"Optimized odds for {favorite.title()}: +{optimizer}\")\n",
    "    else: \n",
    "        optimizer = optimizer\n",
    "        print(f\"Optimized odds for {favorite.title()}: {optimizer}\")\n",
    "\n",
    "    \n",
    "    print(f\"\\n{outcome}\")\n",
    "            \n",
    "a = float(input(\"Moneyline: \"))\n",
    "b = float(input(\"Percent of bets on the favorite: \"))\n",
    "c = input(\"Favorite: \")\n",
    "d = input(\"Underdog: \")\n",
    "titlefightpredictor(a,b,c,d)"
   ]
  }
 ],
 "metadata": {
  "kernelspec": {
   "display_name": "Python 3 (ipykernel)",
   "language": "python",
   "name": "python3"
  },
  "language_info": {
   "codemirror_mode": {
    "name": "ipython",
    "version": 3
   },
   "file_extension": ".py",
   "mimetype": "text/x-python",
   "name": "python",
   "nbconvert_exporter": "python",
   "pygments_lexer": "ipython3",
   "version": "3.9.7"
  }
 },
 "nbformat": 4,
 "nbformat_minor": 5
}
