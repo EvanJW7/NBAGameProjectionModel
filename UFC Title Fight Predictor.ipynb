{
 "cells": [
  {
   "cell_type": "code",
   "execution_count": null,
   "id": "f14827b3",
   "metadata": {},
   "outputs": [],
   "source": [
    "def titlefightpredictor(moneyline, percent_of_bets, favorite, underdog):\n",
    "    betsfinal = (percent_of_bets)/100\n",
    "    optimizer = moneyline - ((.5 - betsfinal)*750)\n",
    "    optimizer = format(optimizer, \".4\")\n",
    "    optimizer = float(optimizer)\n",
    "    if optimizer >=90:\n",
    "        outcome = f'{underdog.title()} will upset {favorite.title()} in the 1st round'\n",
    "    if 90>optimizer>30:\n",
    "        outcome = f'{underdog.title()} will upset {favorite.title()} in the 2nd round'\n",
    "    if 30>=optimizer>-10:\n",
    "        outcome = f'{favorite.title()} will upset {underdog.title()} in the 3rd round'\n",
    "    if -10>=optimizer>-55:\n",
    "        outcome = f'{underdog.title()} will upset {favorite.title()} in the 4th round'\n",
    "    if -55>=optimizer>-80:\n",
    "        outcome = f'{underdog.title()} will defeat {favorite.title()} in the 5th round'\n",
    "    if -80>=optimizer>-100:\n",
    "        outcome = f'{underdog.title()} will upset {favorite.title()} by unanimous decision'\n",
    "    if -100>=optimizer>-105:\n",
    "        outcome = f'{underdog.title()} will upset {favorite.title()} in a split decision'\n",
    "    if -110<=optimizer<=-105:\n",
    "        outcome = f'{favorite.title()} wins a close match against {underdog.title()} in a split decision'\n",
    "    if -130<=optimizer<-110:\n",
    "        outcome = f'{favorite.title()} will defeat {underdog.title()} by unanimous decision'\n",
    "    if -155<=optimizer<-130:\n",
    "        outcome = f'{favorite.title()} will defeat {underdog.title()} in the 5th round'\n",
    "    if -200<=optimizer<-155:\n",
    "        outcome = f'{favorite.title()} will defeat {underdog.title()} in the 4th round'\n",
    "    if -240<=optimizer<-200:\n",
    "        outcome = f'{favorite.title()} will defeat {underdog.title()} in the 3rd round'\n",
    "    if -300<optimizer<-240:\n",
    "        outcome = f'{favorite.title()} will defeat {underdog.title()} in the 2nd round'\n",
    "    if optimizer <=-300:\n",
    "        outcome = f'{favorite.title()} will defeat {underdog.title()} in the 1st round'\n",
    "        \n",
    "    print(f\"\\nOriginal odds for {favorite.title()}: {moneyline}\")\n",
    "    if optimizer >-105:\n",
    "        optimizer = optimizer+210\n",
    "        print(f\"Optimized odds for {favorite.title()}: +{optimizer}\")\n",
    "    else: \n",
    "        optimizer = optimizer\n",
    "        print(f\"Optimized odds for {favorite.title()}: {optimizer}\")\n",
    "\n",
    "    \n",
    "    print(f\"\\n{outcome}\")\n",
    "            \n",
    "a = float(input(\"Moneyline: \"))\n",
    "b = float(input(\"Percent of bets on the favorite: \"))\n",
    "c = input(\"Favorite: \")\n",
    "d = input(\"Underdog: \")\n",
    "titlefightpredictor(a,b,c,d)"
   ]
  },
  {
   "cell_type": "code",
   "execution_count": null,
   "id": "66173628",
   "metadata": {},
   "outputs": [],
   "source": []
  },
  {
   "cell_type": "code",
   "execution_count": null,
   "id": "d76c3793",
   "metadata": {},
   "outputs": [],
   "source": []
  },
  {
   "cell_type": "code",
   "execution_count": null,
   "id": "ff4bc066",
   "metadata": {},
   "outputs": [],
   "source": []
  },
  {
   "cell_type": "code",
   "execution_count": null,
   "id": "b5284f72",
   "metadata": {},
   "outputs": [],
   "source": []
  },
  {
   "cell_type": "code",
   "execution_count": null,
   "id": "4d16f467",
   "metadata": {},
   "outputs": [],
   "source": []
  },
  {
   "cell_type": "code",
   "execution_count": null,
   "id": "21a1bfbe",
   "metadata": {},
   "outputs": [],
   "source": []
  },
  {
   "cell_type": "code",
   "execution_count": null,
   "id": "270574e5",
   "metadata": {},
   "outputs": [],
   "source": []
  },
  {
   "cell_type": "code",
   "execution_count": null,
   "id": "a0bf8fe9",
   "metadata": {},
   "outputs": [],
   "source": []
  },
  {
   "cell_type": "code",
   "execution_count": null,
   "id": "44b965f9",
   "metadata": {},
   "outputs": [],
   "source": []
  },
  {
   "cell_type": "code",
   "execution_count": null,
   "id": "763cd099",
   "metadata": {},
   "outputs": [],
   "source": []
  },
  {
   "cell_type": "code",
   "execution_count": null,
   "id": "122c5f50",
   "metadata": {},
   "outputs": [],
   "source": []
  },
  {
   "cell_type": "code",
   "execution_count": null,
   "id": "f6e8b4a1",
   "metadata": {},
   "outputs": [],
   "source": []
  },
  {
   "cell_type": "code",
   "execution_count": null,
   "id": "9d32db48",
   "metadata": {},
   "outputs": [],
   "source": []
  },
  {
   "cell_type": "code",
   "execution_count": null,
   "id": "002c8e77",
   "metadata": {},
   "outputs": [],
   "source": []
  },
  {
   "cell_type": "code",
   "execution_count": null,
   "id": "69e484ab",
   "metadata": {},
   "outputs": [],
   "source": []
  }
 ],
 "metadata": {
  "kernelspec": {
   "display_name": "Python 3",
   "language": "python",
   "name": "python3"
  },
  "language_info": {
   "codemirror_mode": {
    "name": "ipython",
    "version": 3
   },
   "file_extension": ".py",
   "mimetype": "text/x-python",
   "name": "python",
   "nbconvert_exporter": "python",
   "pygments_lexer": "ipython3",
   "version": "3.8.8"
  }
 },
 "nbformat": 4,
 "nbformat_minor": 5
}
